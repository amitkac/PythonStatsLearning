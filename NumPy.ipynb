{
  "nbformat": 4,
  "nbformat_minor": 0,
  "metadata": {
    "colab": {
      "name": "NumPy.ipynb",
      "version": "0.3.2",
      "provenance": [],
      "collapsed_sections": []
    },
    "kernelspec": {
      "name": "python3",
      "display_name": "Python 3"
    }
  },
  "cells": [
    {
      "metadata": {
        "id": "C6ZaM776qKND",
        "colab_type": "code",
        "colab": {}
      },
      "cell_type": "code",
      "source": [
        "# based on tutorial from \n",
        "# http://cs231n.github.io/python-numpy-tutorial/\n",
        "# covers basic data structures and math operations\n",
        "\n",
        "import numpy as np"
      ],
      "execution_count": 0,
      "outputs": []
    },
    {
      "metadata": {
        "id": "1OtslErBtq7K",
        "colab_type": "code",
        "outputId": "bc5ae449-4b2f-4a4b-ab8d-6ad1482057af",
        "colab": {
          "base_uri": "https://localhost:8080/",
          "height": 51
        }
      },
      "cell_type": "code",
      "source": [
        "# Initialize numpy arrays from nested Python lists, and access elements using square brackets\n",
        "\n",
        "a=np.array([ [1,2,3],[7,8,9] ] ); print(a) # remember the use of another list [] around inside ones"
      ],
      "execution_count": 0,
      "outputs": [
        {
          "output_type": "stream",
          "text": [
            "[[1 2 3]\n",
            " [7 8 9]]\n"
          ],
          "name": "stdout"
        }
      ]
    },
    {
      "metadata": {
        "id": "SJxea-hyt4Up",
        "colab_type": "code",
        "outputId": "a8cd757e-1a8b-4c83-8790-f63690c5ef6a",
        "colab": {
          "base_uri": "https://localhost:8080/",
          "height": 34
        }
      },
      "cell_type": "code",
      "source": [
        "print(a.shape) # remember it still is an array of rank 2"
      ],
      "execution_count": 0,
      "outputs": [
        {
          "output_type": "stream",
          "text": [
            "(2, 3)\n"
          ],
          "name": "stdout"
        }
      ]
    },
    {
      "metadata": {
        "id": "UGYElN80uLa5",
        "colab_type": "code",
        "outputId": "2be5d14f-972b-4425-8439-56de07815719",
        "colab": {
          "base_uri": "https://localhost:8080/",
          "height": 34
        }
      },
      "cell_type": "code",
      "source": [
        "# To access the elements we will have to use square brackets\n",
        "a[0,1]"
      ],
      "execution_count": 0,
      "outputs": [
        {
          "output_type": "execute_result",
          "data": {
            "text/plain": [
              "2"
            ]
          },
          "metadata": {
            "tags": []
          },
          "execution_count": 11
        }
      ]
    },
    {
      "metadata": {
        "id": "jHF5DmeQuat6",
        "colab_type": "code",
        "outputId": "3a03f70e-b266-4781-fc33-e1cd9172ed26",
        "colab": {
          "base_uri": "https://localhost:8080/",
          "height": 51
        }
      },
      "cell_type": "code",
      "source": [
        "# some already provided functions in np\n",
        "\n",
        "b=np.zeros((2,3)); print(b) # see the double brackets"
      ],
      "execution_count": 0,
      "outputs": [
        {
          "output_type": "stream",
          "text": [
            "[[0. 0. 0.]\n",
            " [0. 0. 0.]]\n"
          ],
          "name": "stdout"
        }
      ]
    },
    {
      "metadata": {
        "id": "CJZY8G9evY0e",
        "colab_type": "code",
        "outputId": "149c5bea-f25f-4f14-be5c-a247ca7a219b",
        "colab": {
          "base_uri": "https://localhost:8080/",
          "height": 51
        }
      },
      "cell_type": "code",
      "source": [
        "c=a+b; print(c)"
      ],
      "execution_count": 0,
      "outputs": [
        {
          "output_type": "stream",
          "text": [
            "[[1. 2. 3.]\n",
            " [7. 8. 9.]]\n"
          ],
          "name": "stdout"
        }
      ]
    },
    {
      "metadata": {
        "id": "nCErnN6yvnbe",
        "colab_type": "code",
        "colab": {}
      },
      "cell_type": "code",
      "source": [
        "a = np.array([[1,2,3,4], [5,6,7,8], [9,10,11,12]])"
      ],
      "execution_count": 0,
      "outputs": []
    },
    {
      "metadata": {
        "id": "9AnQUH7FxVmi",
        "colab_type": "code",
        "outputId": "b994fc2f-f8b6-4e19-d0bb-a965b58e4a24",
        "colab": {
          "base_uri": "https://localhost:8080/",
          "height": 85
        }
      },
      "cell_type": "code",
      "source": [
        "print(a[1,0]); print(a)"
      ],
      "execution_count": 0,
      "outputs": [
        {
          "output_type": "stream",
          "text": [
            "5\n",
            "[[ 1  2  3  4]\n",
            " [ 5  6  7  8]\n",
            " [ 9 10 11 12]]\n"
          ],
          "name": "stdout"
        }
      ]
    },
    {
      "metadata": {
        "id": "LqsVO5XJxaJC",
        "colab_type": "code",
        "outputId": "aa364841-651a-47f0-9956-1fa2376d7ef9",
        "colab": {
          "base_uri": "https://localhost:8080/",
          "height": 51
        }
      },
      "cell_type": "code",
      "source": [
        "b=a[:2,1:3]; print(b)"
      ],
      "execution_count": 0,
      "outputs": [
        {
          "output_type": "stream",
          "text": [
            "[[2 3]\n",
            " [6 7]]\n"
          ],
          "name": "stdout"
        }
      ]
    },
    {
      "metadata": {
        "id": "N5aXR9bWxhMj",
        "colab_type": "code",
        "outputId": "a5984fa7-faad-4ceb-beca-73b8ee74c85a",
        "colab": {
          "base_uri": "https://localhost:8080/",
          "height": 68
        }
      },
      "cell_type": "code",
      "source": [
        "# modifying b\n",
        "# A slice of an array is a view into the same data, so modifying it\n",
        "# will modify the original array.-- very important\n",
        "\n",
        "b[0,0]=99; print(a) # so my a also got modified with b"
      ],
      "execution_count": 0,
      "outputs": [
        {
          "output_type": "stream",
          "text": [
            "[[ 1 99  3  4]\n",
            " [ 5  6  7  8]\n",
            " [ 9 10 11 12]]\n"
          ],
          "name": "stdout"
        }
      ]
    },
    {
      "metadata": {
        "id": "o1zzo5Ucx6kk",
        "colab_type": "code",
        "colab": {
          "base_uri": "https://localhost:8080/",
          "height": 50
        },
        "outputId": "13119118-357e-42ec-de68-90d4c6f78fa4"
      },
      "cell_type": "code",
      "source": [
        "array1=np.array([list(range(3)),list(range(1,7,2))]); print(array1)"
      ],
      "execution_count": 3,
      "outputs": [
        {
          "output_type": "stream",
          "text": [
            "[[0 1 2]\n",
            " [1 3 5]]\n"
          ],
          "name": "stdout"
        }
      ]
    },
    {
      "metadata": {
        "id": "32P5lJImJY42",
        "colab_type": "code",
        "colab": {}
      },
      "cell_type": "code",
      "source": [
        "array2=array1[:,1]; array3=array1[:,1:2] # accessing with low rank and high rank with slicing"
      ],
      "execution_count": 0,
      "outputs": []
    },
    {
      "metadata": {
        "id": "ieahzfBdJ2M1",
        "colab_type": "code",
        "colab": {
          "base_uri": "https://localhost:8080/",
          "height": 67
        },
        "outputId": "3781f6b4-163c-4623-8e8d-f54a5688dbd5"
      },
      "cell_type": "code",
      "source": [
        "print(array2,array2.shape); print(array3,array3.shape)"
      ],
      "execution_count": 6,
      "outputs": [
        {
          "output_type": "stream",
          "text": [
            "[1 3] (2,)\n",
            "[[1]\n",
            " [3]] (2, 1)\n"
          ],
          "name": "stdout"
        }
      ]
    },
    {
      "metadata": {
        "id": "NLAuXj1lKZTD",
        "colab_type": "code",
        "colab": {
          "base_uri": "https://localhost:8080/",
          "height": 50
        },
        "outputId": "6f2076fe-3a68-4ba9-8751-e30c18cb5950"
      },
      "cell_type": "code",
      "source": [
        "# integer array indexing creates subarray [] while other\n",
        "# one creates an array of higher rank\n",
        "arr1=np.array([[1,2], [3, 4], [5, 6]]);\n",
        "print(arr1[[0,1,2],[0,1,0]]) # equivalent to printing\n",
        "print([arr1[0,0],arr1[1,1],arr1[2,0]])"
      ],
      "execution_count": 9,
      "outputs": [
        {
          "output_type": "stream",
          "text": [
            "[1 4 5]\n",
            "[1, 4, 5]\n"
          ],
          "name": "stdout"
        }
      ]
    },
    {
      "metadata": {
        "id": "mWTkScN6J_tE",
        "colab_type": "code",
        "colab": {
          "base_uri": "https://localhost:8080/",
          "height": 34
        },
        "outputId": "b255b14c-cdad-49a5-853d-fc77e5fe80b4"
      },
      "cell_type": "code",
      "source": [
        "print(arr1.dtype)"
      ],
      "execution_count": 11,
      "outputs": [
        {
          "output_type": "stream",
          "text": [
            "int64\n"
          ],
          "name": "stdout"
        }
      ]
    },
    {
      "metadata": {
        "id": "t26HxHovL33B",
        "colab_type": "code",
        "colab": {
          "base_uri": "https://localhost:8080/",
          "height": 67
        },
        "outputId": "1bca4681-9c81-42ca-adb4-21892a1dda26"
      },
      "cell_type": "code",
      "source": [
        "arr1*arr1"
      ],
      "execution_count": 13,
      "outputs": [
        {
          "output_type": "execute_result",
          "data": {
            "text/plain": [
              "array([[ 1,  4],\n",
              "       [ 9, 16],\n",
              "       [25, 36]])"
            ]
          },
          "metadata": {
            "tags": []
          },
          "execution_count": 13
        }
      ]
    },
    {
      "metadata": {
        "id": "FwNTkLvDNFad",
        "colab_type": "code",
        "colab": {
          "base_uri": "https://localhost:8080/",
          "height": 67
        },
        "outputId": "fab35485-7b43-4cee-a0d5-9d9bf5568e55"
      },
      "cell_type": "code",
      "source": [
        "arr1+arr1"
      ],
      "execution_count": 15,
      "outputs": [
        {
          "output_type": "execute_result",
          "data": {
            "text/plain": [
              "array([[ 2,  4],\n",
              "       [ 6,  8],\n",
              "       [10, 12]])"
            ]
          },
          "metadata": {
            "tags": []
          },
          "execution_count": 15
        }
      ]
    },
    {
      "metadata": {
        "id": "YwiCB_WoP1T5",
        "colab_type": "code",
        "colab": {
          "base_uri": "https://localhost:8080/",
          "height": 118
        },
        "outputId": "39b9d779-65e9-43e7-d7f1-dc271f3dbe53"
      },
      "cell_type": "code",
      "source": [
        "print(arr1)\n",
        "print(np.sum(arr1))# total sum, \n",
        "#sum rows giving column sum\n",
        "print(np.sum(arr1,axis=0))\n",
        "#sum columns giving rows sum\n",
        "print(np.sum(arr1,axis=1))"
      ],
      "execution_count": 20,
      "outputs": [
        {
          "output_type": "stream",
          "text": [
            "[[1 2]\n",
            " [3 4]\n",
            " [5 6]]\n",
            "21\n",
            "[ 9 12]\n",
            "[ 3  7 11]\n"
          ],
          "name": "stdout"
        }
      ]
    },
    {
      "metadata": {
        "id": "ikqRvMlVP6DY",
        "colab_type": "code",
        "colab": {
          "base_uri": "https://localhost:8080/",
          "height": 50
        },
        "outputId": "76a5315f-0435-4db9-827b-98485ea50270"
      },
      "cell_type": "code",
      "source": [
        "arr1.T # transpose"
      ],
      "execution_count": 22,
      "outputs": [
        {
          "output_type": "execute_result",
          "data": {
            "text/plain": [
              "array([[1, 3, 5],\n",
              "       [2, 4, 6]])"
            ]
          },
          "metadata": {
            "tags": []
          },
          "execution_count": 22
        }
      ]
    },
    {
      "metadata": {
        "id": "d0s9cUuQQr23",
        "colab_type": "code",
        "colab": {
          "base_uri": "https://localhost:8080/",
          "height": 84
        },
        "outputId": "c61eeda8-a851-43c5-f314-02bc2c759db4"
      },
      "cell_type": "code",
      "source": [
        "# adding vector to matrix without using for loop\n",
        "\n",
        "x = np.array([[1,2,3], [4,5,6], [7,8,9], [10, 11, 12]])\n",
        "\n",
        "v=np.array([1,0,1]);\n",
        "# tile up to make it same size as x\n",
        "vv=np.tile(v,(len(x),1)); #print(vv)\n",
        "\n",
        "# now we can add\n",
        "NewY=x+vv; print(NewY)\n"
      ],
      "execution_count": 40,
      "outputs": [
        {
          "output_type": "stream",
          "text": [
            "[[ 2  2  4]\n",
            " [ 5  5  7]\n",
            " [ 8  8 10]\n",
            " [11 11 13]]\n"
          ],
          "name": "stdout"
        }
      ]
    },
    {
      "metadata": {
        "id": "AfJgZ54kS4hT",
        "colab_type": "code",
        "colab": {
          "base_uri": "https://localhost:8080/",
          "height": 50
        },
        "outputId": "eb3153b2-fbe6-446f-c2e8-5b7a1e7a2eb5"
      },
      "cell_type": "code",
      "source": [
        "# gives number of rows\n",
        "print(len(x))\n",
        "# gives number of columns\n",
        "print(len(x[0]))"
      ],
      "execution_count": 36,
      "outputs": [
        {
          "output_type": "stream",
          "text": [
            "4\n",
            "3\n"
          ],
          "name": "stdout"
        }
      ]
    },
    {
      "metadata": {
        "id": "X52YJEjYS68i",
        "colab_type": "code",
        "colab": {
          "base_uri": "https://localhost:8080/",
          "height": 84
        },
        "outputId": "bce3f0d0-1702-41bf-ab80-b5762a809708"
      },
      "cell_type": "code",
      "source": [
        "# broadcasting\n",
        "y=x+v; print(y) # row wise addition"
      ],
      "execution_count": 42,
      "outputs": [
        {
          "output_type": "stream",
          "text": [
            "[[ 2  2  4]\n",
            " [ 5  5  7]\n",
            " [ 8  8 10]\n",
            " [11 11 13]]\n"
          ],
          "name": "stdout"
        }
      ]
    },
    {
      "metadata": {
        "id": "rkKPg4SOUgXf",
        "colab_type": "code",
        "colab": {}
      },
      "cell_type": "code",
      "source": [
        ""
      ],
      "execution_count": 0,
      "outputs": []
    }
  ]
}